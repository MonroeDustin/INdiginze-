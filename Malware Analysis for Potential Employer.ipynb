{
 "cells": [
  {
   "cell_type": "markdown",
   "metadata": {},
   "source": [
    "<h1>Malware Analysis for Potential Employer</h1>"
   ]
  },
  {
   "cell_type": "code",
   "execution_count": 1,
   "metadata": {},
   "outputs": [
    {
     "data": {
      "text/html": [
       "<div>\n",
       "<style scoped>\n",
       "    .dataframe tbody tr th:only-of-type {\n",
       "        vertical-align: middle;\n",
       "    }\n",
       "\n",
       "    .dataframe tbody tr th {\n",
       "        vertical-align: top;\n",
       "    }\n",
       "\n",
       "    .dataframe thead th {\n",
       "        text-align: right;\n",
       "    }\n",
       "</style>\n",
       "<table border=\"1\" class=\"dataframe\">\n",
       "  <thead>\n",
       "    <tr style=\"text-align: right;\">\n",
       "      <th></th>\n",
       "      <th>date</th>\n",
       "      <th>botfam</th>\n",
       "      <th>industry</th>\n",
       "      <th>hosts</th>\n",
       "      <th>orgs</th>\n",
       "    </tr>\n",
       "  </thead>\n",
       "  <tbody>\n",
       "    <tr>\n",
       "      <th>0</th>\n",
       "      <td>6/1/2016</td>\n",
       "      <td>Bedep</td>\n",
       "      <td>Education</td>\n",
       "      <td>88</td>\n",
       "      <td>33</td>\n",
       "    </tr>\n",
       "    <tr>\n",
       "      <th>1</th>\n",
       "      <td>6/1/2016</td>\n",
       "      <td>Bedep</td>\n",
       "      <td>Finance</td>\n",
       "      <td>387</td>\n",
       "      <td>17</td>\n",
       "    </tr>\n",
       "    <tr>\n",
       "      <th>2</th>\n",
       "      <td>6/1/2016</td>\n",
       "      <td>Bedep</td>\n",
       "      <td>Government/Politics</td>\n",
       "      <td>430</td>\n",
       "      <td>42</td>\n",
       "    </tr>\n",
       "    <tr>\n",
       "      <th>3</th>\n",
       "      <td>6/1/2016</td>\n",
       "      <td>Bedep</td>\n",
       "      <td>Healthcare/Wellness</td>\n",
       "      <td>42</td>\n",
       "      <td>19</td>\n",
       "    </tr>\n",
       "    <tr>\n",
       "      <th>4</th>\n",
       "      <td>6/1/2016</td>\n",
       "      <td>Bedep</td>\n",
       "      <td>Manufacturing</td>\n",
       "      <td>184</td>\n",
       "      <td>18</td>\n",
       "    </tr>\n",
       "  </tbody>\n",
       "</table>\n",
       "</div>"
      ],
      "text/plain": [
       "       date botfam             industry  hosts  orgs\n",
       "0  6/1/2016  Bedep            Education     88    33\n",
       "1  6/1/2016  Bedep              Finance    387    17\n",
       "2  6/1/2016  Bedep  Government/Politics    430    42\n",
       "3  6/1/2016  Bedep  Healthcare/Wellness     42    19\n",
       "4  6/1/2016  Bedep        Manufacturing    184    18"
      ]
     },
     "execution_count": 1,
     "metadata": {},
     "output_type": "execute_result"
    }
   ],
   "source": [
    "import pandas as pd\n",
    "import numpy as np\n",
    "\n",
    "# import warnings library to ignore warnings\n",
    "import warnings\n",
    "warnings.filterwarnings('ignore')\n",
    "\n",
    "# Import data\n",
    "df = pd.read_csv('\\\\bots1.csv')\n",
    "df.head()"
   ]
  },
  {
   "cell_type": "code",
   "execution_count": 2,
   "metadata": {},
   "outputs": [
    {
     "data": {
      "text/plain": [
       "date        object\n",
       "botfam      object\n",
       "industry    object\n",
       "hosts        int64\n",
       "orgs         int64\n",
       "dtype: object"
      ]
     },
     "execution_count": 2,
     "metadata": {},
     "output_type": "execute_result"
    }
   ],
   "source": [
    "df.dtypes"
   ]
  },
  {
   "cell_type": "code",
   "execution_count": 3,
   "metadata": {},
   "outputs": [
    {
     "data": {
      "text/plain": [
       "Sality         540\n",
       "Ramnit         540\n",
       "Zeus           540\n",
       "ConfickerAB    540\n",
       "zeroaccess     538\n",
       "Bedep          535\n",
       "Necurs         511\n",
       "Zusy           498\n",
       "PushDo         418\n",
       "Olmasco        309\n",
       "Name: botfam, dtype: int64"
      ]
     },
     "execution_count": 3,
     "metadata": {},
     "output_type": "execute_result"
    }
   ],
   "source": [
    "df['botfam'].value_counts(dropna=False)"
   ]
  },
  {
   "cell_type": "code",
   "execution_count": 4,
   "metadata": {},
   "outputs": [
    {
     "data": {
      "text/plain": [
       "Manufacturing          895\n",
       "Retail                 874\n",
       "Education              820\n",
       "Healthcare/Wellness    798\n",
       "Government/Politics    793\n",
       "Finance                789\n",
       "Name: industry, dtype: int64"
      ]
     },
     "execution_count": 4,
     "metadata": {},
     "output_type": "execute_result"
    }
   ],
   "source": [
    "df['industry'].value_counts(dropna=False)"
   ]
  },
  {
   "cell_type": "markdown",
   "metadata": {},
   "source": [
    "<h2>Which industry sees the most Ramnit infections? Least? </h2>"
   ]
  },
  {
   "cell_type": "code",
   "execution_count": 5,
   "metadata": {},
   "outputs": [
    {
     "name": "stdout",
     "output_type": "stream",
     "text": [
      "\tMost Ramnit Infections\n",
      "        industry  hosts  orgs\n",
      "0  Manufacturing  46303  1155\n",
      "\n",
      "\n",
      "\tLeast Ramnit Infections\n",
      "              industry  hosts  orgs\n",
      "0  Healthcare/Wellness    544   473\n"
     ]
    }
   ],
   "source": [
    "#filter the data for 'Ramnit'\n",
    "ramnit = df.loc[df['botfam']=='Ramnit']\n",
    "ramnit_sum = ramnit.groupby(['industry']).sum()\n",
    "print(\"\\tMost Ramnit Infections\")\n",
    "print(ramnit_sum.loc[ramnit_sum['hosts']==ramnit_sum.max()['hosts']].reset_index())\n",
    "print(\"\\n\\n\\tLeast Ramnit Infections\")\n",
    "print(ramnit_sum.loc[ramnit_sum['hosts']==ramnit_sum.min()['hosts']].reset_index())"
   ]
  },
  {
   "cell_type": "markdown",
   "metadata": {},
   "source": [
    "<h2>Calculate the min, max, median and mean infected orgs across industries for each Bot family, sort by median </h2>\n"
   ]
  },
  {
   "cell_type": "code",
   "execution_count": 6,
   "metadata": {},
   "outputs": [
    {
     "data": {
      "text/html": [
       "<div>\n",
       "<style scoped>\n",
       "    .dataframe tbody tr th:only-of-type {\n",
       "        vertical-align: middle;\n",
       "    }\n",
       "\n",
       "    .dataframe tbody tr th {\n",
       "        vertical-align: top;\n",
       "    }\n",
       "\n",
       "    .dataframe thead th {\n",
       "        text-align: right;\n",
       "    }\n",
       "</style>\n",
       "<table border=\"1\" class=\"dataframe\">\n",
       "  <thead>\n",
       "    <tr style=\"text-align: right;\">\n",
       "      <th></th>\n",
       "      <th>amax</th>\n",
       "      <th>mean</th>\n",
       "      <th>amin</th>\n",
       "      <th>median</th>\n",
       "    </tr>\n",
       "    <tr>\n",
       "      <th>botfam</th>\n",
       "      <th></th>\n",
       "      <th></th>\n",
       "      <th></th>\n",
       "      <th></th>\n",
       "    </tr>\n",
       "  </thead>\n",
       "  <tbody>\n",
       "    <tr>\n",
       "      <th>Olmasco</th>\n",
       "      <td>6</td>\n",
       "      <td>1.592233</td>\n",
       "      <td>1</td>\n",
       "      <td>1.0</td>\n",
       "    </tr>\n",
       "    <tr>\n",
       "      <th>PushDo</th>\n",
       "      <td>12</td>\n",
       "      <td>2.882775</td>\n",
       "      <td>1</td>\n",
       "      <td>2.0</td>\n",
       "    </tr>\n",
       "    <tr>\n",
       "      <th>Zusy</th>\n",
       "      <td>20</td>\n",
       "      <td>5.279116</td>\n",
       "      <td>1</td>\n",
       "      <td>4.0</td>\n",
       "    </tr>\n",
       "    <tr>\n",
       "      <th>zeroaccess</th>\n",
       "      <td>19</td>\n",
       "      <td>5.481413</td>\n",
       "      <td>1</td>\n",
       "      <td>5.0</td>\n",
       "    </tr>\n",
       "    <tr>\n",
       "      <th>Bedep</th>\n",
       "      <td>42</td>\n",
       "      <td>8.016822</td>\n",
       "      <td>1</td>\n",
       "      <td>6.0</td>\n",
       "    </tr>\n",
       "    <tr>\n",
       "      <th>Zeus</th>\n",
       "      <td>36</td>\n",
       "      <td>9.988889</td>\n",
       "      <td>1</td>\n",
       "      <td>8.0</td>\n",
       "    </tr>\n",
       "    <tr>\n",
       "      <th>Ramnit</th>\n",
       "      <td>60</td>\n",
       "      <td>14.703704</td>\n",
       "      <td>1</td>\n",
       "      <td>9.0</td>\n",
       "    </tr>\n",
       "    <tr>\n",
       "      <th>Necurs</th>\n",
       "      <td>115</td>\n",
       "      <td>16.739726</td>\n",
       "      <td>1</td>\n",
       "      <td>11.0</td>\n",
       "    </tr>\n",
       "    <tr>\n",
       "      <th>Sality</th>\n",
       "      <td>43</td>\n",
       "      <td>15.909259</td>\n",
       "      <td>2</td>\n",
       "      <td>12.0</td>\n",
       "    </tr>\n",
       "    <tr>\n",
       "      <th>ConfickerAB</th>\n",
       "      <td>122</td>\n",
       "      <td>63.035185</td>\n",
       "      <td>27</td>\n",
       "      <td>56.5</td>\n",
       "    </tr>\n",
       "  </tbody>\n",
       "</table>\n",
       "</div>"
      ],
      "text/plain": [
       "             amax       mean  amin  median\n",
       "botfam                                    \n",
       "Olmasco         6   1.592233     1     1.0\n",
       "PushDo         12   2.882775     1     2.0\n",
       "Zusy           20   5.279116     1     4.0\n",
       "zeroaccess     19   5.481413     1     5.0\n",
       "Bedep          42   8.016822     1     6.0\n",
       "Zeus           36   9.988889     1     8.0\n",
       "Ramnit         60  14.703704     1     9.0\n",
       "Necurs        115  16.739726     1    11.0\n",
       "Sality         43  15.909259     2    12.0\n",
       "ConfickerAB   122  63.035185    27    56.5"
      ]
     },
     "execution_count": 6,
     "metadata": {},
     "output_type": "execute_result"
    }
   ],
   "source": [
    "df.groupby(['botfam'],sort=False)['orgs'].agg([np.max,np.mean,np.min,np.median]).sort_values('median')"
   ]
  },
  {
   "attachments": {},
   "cell_type": "markdown",
   "metadata": {},
   "source": [
    "<h2> Which date had the total most bot infections and how many infections on that day? </h2>"
   ]
  },
  {
   "cell_type": "code",
   "execution_count": 7,
   "metadata": {},
   "outputs": [
    {
     "data": {
      "text/html": [
       "<div>\n",
       "<style scoped>\n",
       "    .dataframe tbody tr th:only-of-type {\n",
       "        vertical-align: middle;\n",
       "    }\n",
       "\n",
       "    .dataframe tbody tr th {\n",
       "        vertical-align: top;\n",
       "    }\n",
       "\n",
       "    .dataframe thead th {\n",
       "        text-align: right;\n",
       "    }\n",
       "</style>\n",
       "<table border=\"1\" class=\"dataframe\">\n",
       "  <thead>\n",
       "    <tr style=\"text-align: right;\">\n",
       "      <th></th>\n",
       "      <th>hosts</th>\n",
       "    </tr>\n",
       "    <tr>\n",
       "      <th>date</th>\n",
       "      <th></th>\n",
       "    </tr>\n",
       "  </thead>\n",
       "  <tbody>\n",
       "    <tr>\n",
       "      <th>6/2/2016</th>\n",
       "      <td>11352</td>\n",
       "    </tr>\n",
       "  </tbody>\n",
       "</table>\n",
       "</div>"
      ],
      "text/plain": [
       "          hosts\n",
       "date           \n",
       "6/2/2016  11352"
      ]
     },
     "execution_count": 7,
     "metadata": {},
     "output_type": "execute_result"
    }
   ],
   "source": [
    "#Group by Date\n",
    "date_group = df[['date','hosts']].groupby(['date'],sort=False).sum() \n",
    "\n",
    "#Find date with Maximum Infections\n",
    "date_group.loc[date_group['hosts']==date_group.max()['hosts']]"
   ]
  },
  {
   "cell_type": "markdown",
   "metadata": {},
   "source": [
    "<h2>Plot the daily infected hosts for Necurs, Ramnit and Pushdo</h2> "
   ]
  },
  {
   "cell_type": "code",
   "execution_count": 8,
   "metadata": {},
   "outputs": [
    {
     "data": {
      "text/plain": [
       "<matplotlib.axes._subplots.AxesSubplot at 0x16097a09b38>"
      ]
     },
     "execution_count": 8,
     "metadata": {},
     "output_type": "execute_result"
    }
   ],
   "source": [
    "#filter 'pushodo' bot values and then group by date\n",
    "pushdo_datawise = df.loc[df['botfam']=='PushDo'][['date','hosts']].groupby(['date']).sum().reset_index()\n",
    "#convert the 'date' from string format to date format\n",
    "pushdo_datawise['date']=pd.to_datetime(pushdo_datawise['date'])\n",
    "#sort the values of the date\n",
    "x1 = pushdo_datawise.sort_values('date')\n",
    "#plot date vs hosts\n",
    "x1.plot(x = 'date', y= 'hosts')\n"
   ]
  },
  {
   "cell_type": "code",
   "execution_count": 9,
   "metadata": {},
   "outputs": [
    {
     "data": {
      "text/plain": [
       "<matplotlib.axes._subplots.AxesSubplot at 0x160985b4630>"
      ]
     },
     "execution_count": 9,
     "metadata": {},
     "output_type": "execute_result"
    },
    {
     "data": {
      "image/png": "[encoded data removed]",
      "text/plain": [
       "<Figure size 432x288 with 1 Axes>"
      ]
     },
     "metadata": {
      "needs_background": "light"
     },
     "output_type": "display_data"
    }
   ],
   "source": [
    "#filter 'necurs' bot values and then group by date\n",
    "necurs_datawise = df.loc[df['botfam']=='Necurs'][['date','hosts']].groupby(['date']).sum().reset_index()\n",
    "#convert the 'date' from string format to date format\n",
    "necurs_datawise['date']=pd.to_datetime(necurs_datawise['date'])\n",
    "#sort the values of the date\n",
    "x2 = necurs_datawise.sort_values('date')\n",
    "#plot date vs hosts\n",
    "x2.plot(x = 'date', y= 'hosts') "
   ]
  },
  {
   "cell_type": "code",
   "execution_count": 10,
   "metadata": {},
   "outputs": [
    {
     "data": {
      "text/plain": [
       "<matplotlib.axes._subplots.AxesSubplot at 0x1609862f390>"
      ]
     },
     "execution_count": 10,
     "metadata": {},
     "output_type": "execute_result"
    },
    {
     "data": {
      "image/png": "[encoded data removed]",
      "text/plain": [
       "<Figure size 432x288 with 1 Axes>"
      ]
     },
     "metadata": {
      "needs_background": "light"
     },
     "output_type": "display_data"
    }
   ],
   "source": [
    "#filter 'necurs' bot values and then group by date\n",
    "ramnit_datawise = df.loc[df['botfam']=='Ramnit'][['date','hosts']].groupby(['date']).sum().reset_index()\n",
    "#convert the 'date' from string format to date format\n",
    "ramnit_datawise['date']=pd.to_datetime(ramnit_datawise['date'])\n",
    "#sort the values of the date\n",
    "x3 = ramnit_datawise.sort_values('date')\n",
    "#plot date vs hosts\n",
    "x3.plot(x = 'date', y= 'hosts') "
   ]
  },
  {
   "cell_type": "markdown",
   "metadata": {},
   "source": [
    "<h2>Distribution of infected hosts for each day-of-week across all bot families </h2>"
   ]
  },
  {
   "cell_type": "code",
   "execution_count": 17,
   "metadata": {},
   "outputs": [
    {
     "name": "stdout",
     "output_type": "stream",
     "text": [
      "     weekday   hosts\n",
      "0     Monday  108870\n",
      "1    Tuesday  103015\n",
      "2  Wednesday  109761\n",
      "3   Thursday  108969\n",
      "4     Friday  106934\n",
      "5   Saturday   87358\n",
      "6     Sunday   82222\n"
     ]
    },
    {
     "data": {
      "text/plain": [
       "<matplotlib.axes._subplots.AxesSubplot at 0x1609a961978>"
      ]
     },
     "execution_count": 17,
     "metadata": {},
     "output_type": "execute_result"
    },
    {
     "data": {
      "image/png": "[encoded data removed]",
      "text/plain": [
       "<Figure size 432x288 with 1 Axes>"
      ]
     },
     "metadata": {
      "needs_background": "light"
     },
     "output_type": "display_data"
    }
   ],
   "source": [
    "#group by date\n",
    "date_agg = df.groupby('date', sort = False).sum()['hosts'].reset_index()\n",
    "\n",
    "#convert the 'date' from string format to date format\n",
    "date_agg['date'] = pd.to_datetime(date_agg['date'])\n",
    "\n",
    "#get the name of the weekday for each date\n",
    "date_agg['weekday'] = date_agg['date'].dt.weekday_name\n",
    "\n",
    "#get the day number of the weekday for each date\n",
    "date_agg['weekday_ind'] = date_agg['date'].dt.weekday\n",
    "\n",
    "#group by weekday number/weekday\n",
    "weekday_agg = date_agg.groupby(['weekday_ind','weekday']).sum().reset_index()\n",
    "print(weekday_agg[['weekday','hosts']])\n",
    "\n",
    "#plot weekday by hosts\n",
    "weekday_agg.plot(x='weekday', y = 'hosts')"
   ]
  }
 ],
 "metadata": {
  "kernelspec": {
   "display_name": "Python 3",
   "language": "python",
   "name": "python3"
  },
  "language_info": {
   "codemirror_mode": {
    "name": "ipython",
    "version": 3
   },
   "file_extension": ".py",
   "mimetype": "text/x-python",
   "name": "python",
   "nbconvert_exporter": "python",
   "pygments_lexer": "ipython3",
   "version": "3.7.3"
  }
 },
 "nbformat": 4,
 "nbformat_minor": 2
}
